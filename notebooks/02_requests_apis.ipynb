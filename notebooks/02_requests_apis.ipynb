{
 "cells": [
  {
   "cell_type": "markdown",
   "metadata": {},
   "source": [
    "- Sacar datos luz REAPI por mes (2019-2022): https://apidatos.ree.es/es/datos/mercados/componentes-precio?start_date=2019-01-01T00:00&end_date=2019-01-31T23:59&time_trunc=month&geo_limit=ccaa\n",
    "    - El precio en españa es el mismo para todos\n",
    "- Sacar datos gas: https://data.cnmc.es/energia/mercado-mayorista-del-gas-natural/conjuntos-de-datos/evolucion-de-los-precios-por-productos"
   ]
  },
  {
   "cell_type": "code",
   "execution_count": null,
   "metadata": {},
   "outputs": [],
   "source": [
    "# Importamos las librerías que necesitamos\n",
    "\n",
    "# Librerías para el tratamiento y manipulación de datos\n",
    "# -----------------------------------------------------------------------\n",
    "import pandas as pd             # Manipulación de datos en estructuras DataFrame para análisis y transformación\n",
    "import numpy as np              # Realización de cálculos numéricos y manipulación de arrays multidimensionales\n",
    "import datetime                 # Manejo y procesamiento de fechas y horas, útil para organizar datos temporalmente\n",
    "\n",
    "# Manejo del tiempo y generación de pausas\n",
    "# -----------------------------------------------------------------------\n",
    "from time import sleep          # Pausa la ejecución del código durante un tiempo determinado, útil para evitar bloqueos en scraping\n",
    "import random                   # Generación de valores aleatorios, ideal para espaciar solicitudes en procesos de scraping\n",
    "\n",
    "# Para importar módulos desde rutas recursivas\n",
    "# -----------------------------------------------------------------------\n",
    "import sys\n",
    "sys.path.append(\"../\")          # Añade el directorio padre al PATH para permitir la importación de módulos personalizados\n",
    "from src.SupportApi import (    # Importa funciones personalizadas de soporte\n",
    "    api_gas,                    # Función para hacer llamadas a la API de gas\n",
    "    api_luz                     # Función para hacer llamadas a la API de electricidad\n",
    ")\n",
    "\n",
    "# Control de advertencias\n",
    "# -----------------------------------------------------------------------\n",
    "import warnings\n",
    "warnings.filterwarnings('ignore')  # Suprime advertencias para mantener la salida de consola más limpia\n",
    "\n",
    "# Para realizar solicitudes HTTP\n",
    "import requests                  # Realiza solicitudes HTTP a APIs y obtiene datos en formato JSON\n"
   ]
  },
  {
   "cell_type": "markdown",
   "metadata": {},
   "source": [
    "# Obtener Precios gas\n",
    "\n",
    "Empezamos por obtener todos los precios del gas de 2019 a 2022\n",
    "\n",
    "la función de abajo nos permite obtener los datos de 2019 a 2022. o en un rango de 2015 a 2023 que son los datos que se tienen hasta la fecha"
   ]
  },
  {
   "cell_type": "code",
   "execution_count": 21,
   "metadata": {},
   "outputs": [
    {
     "data": {
      "text/html": [
       "<div>\n",
       "<style scoped>\n",
       "    .dataframe tbody tr th:only-of-type {\n",
       "        vertical-align: middle;\n",
       "    }\n",
       "\n",
       "    .dataframe tbody tr th {\n",
       "        vertical-align: top;\n",
       "    }\n",
       "\n",
       "    .dataframe thead th {\n",
       "        text-align: right;\n",
       "    }\n",
       "</style>\n",
       "<table border=\"1\" class=\"dataframe\">\n",
       "  <thead>\n",
       "    <tr style=\"text-align: right;\">\n",
       "      <th></th>\n",
       "      <th>_id</th>\n",
       "      <th>fecha_de_negociacion</th>\n",
       "      <th>producto_de_mibgas</th>\n",
       "      <th>precios_de_los_productos_mibgas</th>\n",
       "    </tr>\n",
       "  </thead>\n",
       "  <tbody>\n",
       "    <tr>\n",
       "      <th>2601</th>\n",
       "      <td>2602</td>\n",
       "      <td>2018-12-31</td>\n",
       "      <td>Producto intradiario WD</td>\n",
       "      <td>25.14</td>\n",
       "    </tr>\n",
       "    <tr>\n",
       "      <th>2602</th>\n",
       "      <td>2603</td>\n",
       "      <td>2018-12-31</td>\n",
       "      <td>Producto diario D+1</td>\n",
       "      <td>24.28</td>\n",
       "    </tr>\n",
       "    <tr>\n",
       "      <th>2603</th>\n",
       "      <td>2604</td>\n",
       "      <td>2018-12-31</td>\n",
       "      <td>Producto mensual M+1</td>\n",
       "      <td>24.10</td>\n",
       "    </tr>\n",
       "    <tr>\n",
       "      <th>2604</th>\n",
       "      <td>2605</td>\n",
       "      <td>2019-01-01</td>\n",
       "      <td>Producto intradiario WD</td>\n",
       "      <td>25.09</td>\n",
       "    </tr>\n",
       "    <tr>\n",
       "      <th>2605</th>\n",
       "      <td>2606</td>\n",
       "      <td>2019-01-01</td>\n",
       "      <td>Producto diario D+1</td>\n",
       "      <td>27.17</td>\n",
       "    </tr>\n",
       "    <tr>\n",
       "      <th>...</th>\n",
       "      <td>...</td>\n",
       "      <td>...</td>\n",
       "      <td>...</td>\n",
       "      <td>...</td>\n",
       "    </tr>\n",
       "    <tr>\n",
       "      <th>7228</th>\n",
       "      <td>7229</td>\n",
       "      <td>2022-11-29</td>\n",
       "      <td>Producto trimestral Q+1</td>\n",
       "      <td>104.00</td>\n",
       "    </tr>\n",
       "    <tr>\n",
       "      <th>7229</th>\n",
       "      <td>7230</td>\n",
       "      <td>2022-11-30</td>\n",
       "      <td>Producto intradiario WD</td>\n",
       "      <td>125.35</td>\n",
       "    </tr>\n",
       "    <tr>\n",
       "      <th>7230</th>\n",
       "      <td>7231</td>\n",
       "      <td>2022-11-30</td>\n",
       "      <td>Producto diario D+1</td>\n",
       "      <td>118.27</td>\n",
       "    </tr>\n",
       "    <tr>\n",
       "      <th>7231</th>\n",
       "      <td>7232</td>\n",
       "      <td>2022-11-30</td>\n",
       "      <td>Producto mensual M+1</td>\n",
       "      <td>122.37</td>\n",
       "    </tr>\n",
       "    <tr>\n",
       "      <th>7232</th>\n",
       "      <td>7233</td>\n",
       "      <td>2022-11-30</td>\n",
       "      <td>Producto trimestral Q+1</td>\n",
       "      <td>110.77</td>\n",
       "    </tr>\n",
       "  </tbody>\n",
       "</table>\n",
       "<p>4632 rows × 4 columns</p>\n",
       "</div>"
      ],
      "text/plain": [
       "       _id fecha_de_negociacion       producto_de_mibgas  \\\n",
       "2601  2602           2018-12-31  Producto intradiario WD   \n",
       "2602  2603           2018-12-31      Producto diario D+1   \n",
       "2603  2604           2018-12-31     Producto mensual M+1   \n",
       "2604  2605           2019-01-01  Producto intradiario WD   \n",
       "2605  2606           2019-01-01      Producto diario D+1   \n",
       "...    ...                  ...                      ...   \n",
       "7228  7229           2022-11-29  Producto trimestral Q+1   \n",
       "7229  7230           2022-11-30  Producto intradiario WD   \n",
       "7230  7231           2022-11-30      Producto diario D+1   \n",
       "7231  7232           2022-11-30     Producto mensual M+1   \n",
       "7232  7233           2022-11-30  Producto trimestral Q+1   \n",
       "\n",
       "      precios_de_los_productos_mibgas  \n",
       "2601                            25.14  \n",
       "2602                            24.28  \n",
       "2603                            24.10  \n",
       "2604                            25.09  \n",
       "2605                            27.17  \n",
       "...                               ...  \n",
       "7228                           104.00  \n",
       "7229                           125.35  \n",
       "7230                           118.27  \n",
       "7231                           122.37  \n",
       "7232                           110.77  \n",
       "\n",
       "[4632 rows x 4 columns]"
      ]
     },
     "execution_count": 21,
     "metadata": {},
     "output_type": "execute_result"
    }
   ],
   "source": [
    "df_gas = api_gas(\"2018-12-30\",\"2022-12-01\")\n",
    "df_gas"
   ]
  },
  {
   "cell_type": "markdown",
   "metadata": {},
   "source": [
    "Ahora vamos a dejar solo el producto de mibgas que nos interesa actualmente los productos que hay son:"
   ]
  },
  {
   "cell_type": "code",
   "execution_count": 22,
   "metadata": {},
   "outputs": [
    {
     "data": {
      "text/plain": [
       "array(['Producto intradiario WD', 'Producto diario D+1',\n",
       "       'Producto mensual M+1', 'Producto mensual M+2',\n",
       "       'Producto anual Y+1', 'Producto trimestral Q+1',\n",
       "       'Producto trimestral Q+3', 'Producto mensual  M+3',\n",
       "       'Producto trimestral Q+2'], dtype=object)"
      ]
     },
     "execution_count": 22,
     "metadata": {},
     "output_type": "execute_result"
    }
   ],
   "source": [
    "df_gas[\"producto_de_mibgas\"].unique()"
   ]
  },
  {
   "cell_type": "markdown",
   "metadata": {},
   "source": [
    "Vamos entonces a filtrar por el producto mensual M + 1, que nos va a proveer del precio del gas en el mes siguiente (Month + 1)"
   ]
  },
  {
   "cell_type": "code",
   "execution_count": 23,
   "metadata": {},
   "outputs": [],
   "source": [
    "cond = df_gas[\"producto_de_mibgas\"] == \"Producto mensual M+1\"\n",
    "df_gas = df_gas[cond]"
   ]
  },
  {
   "cell_type": "markdown",
   "metadata": {},
   "source": [
    "Lo guardamos, con objetivo de guardar nuestro progreso actual"
   ]
  },
  {
   "cell_type": "code",
   "execution_count": 24,
   "metadata": {},
   "outputs": [],
   "source": [
    "df_gas.to_csv(\"../datos/01_PreciosGas/01_PrecioGasMensualSinLimpiar2019-2022.csv\")"
   ]
  },
  {
   "cell_type": "markdown",
   "metadata": {},
   "source": [
    "## Limpieza Datos Gas\n",
    "Dado que hay múltiples precios en el mismo mes, nos vamos a quedar con el último precio registrado de cada mes\n",
    "\n",
    "Primero ordenamos por fecha para asegurarnos de que están ordenados"
   ]
  },
  {
   "cell_type": "code",
   "execution_count": 25,
   "metadata": {},
   "outputs": [],
   "source": [
    "df_gas = df_gas.sort_values(by=\"fecha_de_negociacion\")"
   ]
  },
  {
   "cell_type": "markdown",
   "metadata": {},
   "source": [
    "Ahora, creamos una nueva columna que nos deja solo el mes y el año"
   ]
  },
  {
   "cell_type": "code",
   "execution_count": 26,
   "metadata": {},
   "outputs": [
    {
     "data": {
      "text/html": [
       "<div>\n",
       "<style scoped>\n",
       "    .dataframe tbody tr th:only-of-type {\n",
       "        vertical-align: middle;\n",
       "    }\n",
       "\n",
       "    .dataframe tbody tr th {\n",
       "        vertical-align: top;\n",
       "    }\n",
       "\n",
       "    .dataframe thead th {\n",
       "        text-align: right;\n",
       "    }\n",
       "</style>\n",
       "<table border=\"1\" class=\"dataframe\">\n",
       "  <thead>\n",
       "    <tr style=\"text-align: right;\">\n",
       "      <th></th>\n",
       "      <th>_id</th>\n",
       "      <th>fecha_de_negociacion</th>\n",
       "      <th>producto_de_mibgas</th>\n",
       "      <th>precios_de_los_productos_mibgas</th>\n",
       "      <th>anio_mes</th>\n",
       "    </tr>\n",
       "  </thead>\n",
       "  <tbody>\n",
       "    <tr>\n",
       "      <th>3759</th>\n",
       "      <td>3760</td>\n",
       "      <td>2019-11-29</td>\n",
       "      <td>Producto mensual M+1</td>\n",
       "      <td>15.16</td>\n",
       "      <td>2019-11</td>\n",
       "    </tr>\n",
       "  </tbody>\n",
       "</table>\n",
       "</div>"
      ],
      "text/plain": [
       "       _id fecha_de_negociacion    producto_de_mibgas  \\\n",
       "3759  3760           2019-11-29  Producto mensual M+1   \n",
       "\n",
       "      precios_de_los_productos_mibgas anio_mes  \n",
       "3759                            15.16  2019-11  "
      ]
     },
     "execution_count": 26,
     "metadata": {},
     "output_type": "execute_result"
    }
   ],
   "source": [
    "df_gas[\"anio_mes\"] = df_gas[\"fecha_de_negociacion\"].dt.to_period(\"M\")\n",
    "df_gas.sample()"
   ]
  },
  {
   "cell_type": "markdown",
   "metadata": {},
   "source": [
    "Agrupamos por el último precio de cada mes y reseteamos el index, también generamos un index compatible para "
   ]
  },
  {
   "cell_type": "code",
   "execution_count": 27,
   "metadata": {},
   "outputs": [
    {
     "data": {
      "text/html": [
       "<div>\n",
       "<style scoped>\n",
       "    .dataframe tbody tr th:only-of-type {\n",
       "        vertical-align: middle;\n",
       "    }\n",
       "\n",
       "    .dataframe tbody tr th {\n",
       "        vertical-align: top;\n",
       "    }\n",
       "\n",
       "    .dataframe thead th {\n",
       "        text-align: right;\n",
       "    }\n",
       "</style>\n",
       "<table border=\"1\" class=\"dataframe\">\n",
       "  <thead>\n",
       "    <tr style=\"text-align: right;\">\n",
       "      <th></th>\n",
       "      <th>index</th>\n",
       "      <th>_id</th>\n",
       "      <th>fecha_de_negociacion</th>\n",
       "      <th>producto_de_mibgas</th>\n",
       "      <th>precios_de_los_productos_mibgas</th>\n",
       "      <th>anio_mes</th>\n",
       "    </tr>\n",
       "  </thead>\n",
       "  <tbody>\n",
       "    <tr>\n",
       "      <th>34</th>\n",
       "      <td>35</td>\n",
       "      <td>6062</td>\n",
       "      <td>2021-10-29</td>\n",
       "      <td>Producto mensual M+1</td>\n",
       "      <td>71.14</td>\n",
       "      <td>2021-10</td>\n",
       "    </tr>\n",
       "  </tbody>\n",
       "</table>\n",
       "</div>"
      ],
      "text/plain": [
       "    index   _id fecha_de_negociacion    producto_de_mibgas  \\\n",
       "34     35  6062           2021-10-29  Producto mensual M+1   \n",
       "\n",
       "    precios_de_los_productos_mibgas anio_mes  \n",
       "34                            71.14  2021-10  "
      ]
     },
     "execution_count": 27,
     "metadata": {},
     "output_type": "execute_result"
    }
   ],
   "source": [
    "df_gas = df_gas.groupby(\"anio_mes\").tail(1).reset_index(drop=True)\n",
    "df_gas.index = df_gas.index + 1\n",
    "df_gas.reset_index(inplace=True)\n",
    "df_gas.sample()"
   ]
  },
  {
   "cell_type": "markdown",
   "metadata": {},
   "source": [
    "Guardamos nuestro progreso y continuamos"
   ]
  },
  {
   "cell_type": "code",
   "execution_count": 28,
   "metadata": {},
   "outputs": [],
   "source": [
    "df_gas.to_csv(\"../datos/01_PreciosGas/02_PrecioGasPorMesSinLimpiar.csv\")"
   ]
  },
  {
   "cell_type": "markdown",
   "metadata": {},
   "source": [
    "Ahora que ya tenemos los precios, por simplicidad, vamos a marcar correctamente a que mes y año pertenecen para poder limpiar más los datos, hacemos un offset de un mes"
   ]
  },
  {
   "cell_type": "code",
   "execution_count": 29,
   "metadata": {},
   "outputs": [],
   "source": [
    "df_gas[\"fecha_de_negociacion\"] = df_gas[\"fecha_de_negociacion\"] + pd.DateOffset(months=1)"
   ]
  },
  {
   "cell_type": "markdown",
   "metadata": {},
   "source": [
    "### Eliminamos las columnas innecesarias y generamos correctamente la columna aniomes"
   ]
  },
  {
   "cell_type": "code",
   "execution_count": 30,
   "metadata": {},
   "outputs": [
    {
     "data": {
      "text/html": [
       "<div>\n",
       "<style scoped>\n",
       "    .dataframe tbody tr th:only-of-type {\n",
       "        vertical-align: middle;\n",
       "    }\n",
       "\n",
       "    .dataframe tbody tr th {\n",
       "        vertical-align: top;\n",
       "    }\n",
       "\n",
       "    .dataframe thead th {\n",
       "        text-align: right;\n",
       "    }\n",
       "</style>\n",
       "<table border=\"1\" class=\"dataframe\">\n",
       "  <thead>\n",
       "    <tr style=\"text-align: right;\">\n",
       "      <th></th>\n",
       "      <th>index</th>\n",
       "      <th>fecha_de_negociacion</th>\n",
       "      <th>precios_de_los_productos_mibgas</th>\n",
       "    </tr>\n",
       "  </thead>\n",
       "  <tbody>\n",
       "    <tr>\n",
       "      <th>0</th>\n",
       "      <td>1</td>\n",
       "      <td>2019-01-31</td>\n",
       "      <td>24.10</td>\n",
       "    </tr>\n",
       "    <tr>\n",
       "      <th>1</th>\n",
       "      <td>2</td>\n",
       "      <td>2019-02-28</td>\n",
       "      <td>22.73</td>\n",
       "    </tr>\n",
       "    <tr>\n",
       "      <th>2</th>\n",
       "      <td>3</td>\n",
       "      <td>2019-03-28</td>\n",
       "      <td>19.29</td>\n",
       "    </tr>\n",
       "    <tr>\n",
       "      <th>3</th>\n",
       "      <td>4</td>\n",
       "      <td>2019-04-29</td>\n",
       "      <td>15.12</td>\n",
       "    </tr>\n",
       "    <tr>\n",
       "      <th>4</th>\n",
       "      <td>5</td>\n",
       "      <td>2019-05-30</td>\n",
       "      <td>15.95</td>\n",
       "    </tr>\n",
       "  </tbody>\n",
       "</table>\n",
       "</div>"
      ],
      "text/plain": [
       "   index fecha_de_negociacion  precios_de_los_productos_mibgas\n",
       "0      1           2019-01-31                            24.10\n",
       "1      2           2019-02-28                            22.73\n",
       "2      3           2019-03-28                            19.29\n",
       "3      4           2019-04-29                            15.12\n",
       "4      5           2019-05-30                            15.95"
      ]
     },
     "execution_count": 30,
     "metadata": {},
     "output_type": "execute_result"
    }
   ],
   "source": [
    "df_gas.drop(columns=[\"_id\",\"producto_de_mibgas\",\"anio_mes\"],inplace=True)\n",
    "df_gas.head()"
   ]
  },
  {
   "cell_type": "code",
   "execution_count": 31,
   "metadata": {},
   "outputs": [],
   "source": [
    "df_gas[\"fecha_de_negociacion\"] = pd.to_datetime(df_gas[\"fecha_de_negociacion\"]).dt.to_period(\"M\").dt.to_timestamp()"
   ]
  },
  {
   "cell_type": "code",
   "execution_count": 32,
   "metadata": {},
   "outputs": [
    {
     "data": {
      "text/html": [
       "<div>\n",
       "<style scoped>\n",
       "    .dataframe tbody tr th:only-of-type {\n",
       "        vertical-align: middle;\n",
       "    }\n",
       "\n",
       "    .dataframe tbody tr th {\n",
       "        vertical-align: top;\n",
       "    }\n",
       "\n",
       "    .dataframe thead th {\n",
       "        text-align: right;\n",
       "    }\n",
       "</style>\n",
       "<table border=\"1\" class=\"dataframe\">\n",
       "  <thead>\n",
       "    <tr style=\"text-align: right;\">\n",
       "      <th></th>\n",
       "      <th>index</th>\n",
       "      <th>precio_gas</th>\n",
       "      <th>fecha</th>\n",
       "    </tr>\n",
       "  </thead>\n",
       "  <tbody>\n",
       "    <tr>\n",
       "      <th>0</th>\n",
       "      <td>1</td>\n",
       "      <td>24.10</td>\n",
       "      <td>2019-01-01</td>\n",
       "    </tr>\n",
       "    <tr>\n",
       "      <th>1</th>\n",
       "      <td>2</td>\n",
       "      <td>22.73</td>\n",
       "      <td>2019-02-01</td>\n",
       "    </tr>\n",
       "    <tr>\n",
       "      <th>2</th>\n",
       "      <td>3</td>\n",
       "      <td>19.29</td>\n",
       "      <td>2019-03-01</td>\n",
       "    </tr>\n",
       "    <tr>\n",
       "      <th>3</th>\n",
       "      <td>4</td>\n",
       "      <td>15.12</td>\n",
       "      <td>2019-04-01</td>\n",
       "    </tr>\n",
       "    <tr>\n",
       "      <th>4</th>\n",
       "      <td>5</td>\n",
       "      <td>15.95</td>\n",
       "      <td>2019-05-01</td>\n",
       "    </tr>\n",
       "  </tbody>\n",
       "</table>\n",
       "</div>"
      ],
      "text/plain": [
       "   index  precio_gas      fecha\n",
       "0      1       24.10 2019-01-01\n",
       "1      2       22.73 2019-02-01\n",
       "2      3       19.29 2019-03-01\n",
       "3      4       15.12 2019-04-01\n",
       "4      5       15.95 2019-05-01"
      ]
     },
     "execution_count": 32,
     "metadata": {},
     "output_type": "execute_result"
    }
   ],
   "source": [
    "df_gas = df_gas.rename(columns={\"fecha_de_negociacion\": \"fecha\",\n",
    "                                \"precios_de_los_productos_mibgas\":\"precio_gas\"})\n",
    "df_gas = df_gas.assign(fecha=df_gas.pop(\"fecha\"))\n",
    "df_gas.head()"
   ]
  },
  {
   "cell_type": "code",
   "execution_count": 33,
   "metadata": {},
   "outputs": [
    {
     "name": "stdout",
     "output_type": "stream",
     "text": [
      "<class 'pandas.core.frame.DataFrame'>\n",
      "RangeIndex: 48 entries, 0 to 47\n",
      "Data columns (total 3 columns):\n",
      " #   Column      Non-Null Count  Dtype         \n",
      "---  ------      --------------  -----         \n",
      " 0   index       48 non-null     int64         \n",
      " 1   precio_gas  48 non-null     float64       \n",
      " 2   fecha       48 non-null     datetime64[ns]\n",
      "dtypes: datetime64[ns](1), float64(1), int64(1)\n",
      "memory usage: 1.3 KB\n"
     ]
    }
   ],
   "source": [
    "df_gas.info()"
   ]
  },
  {
   "cell_type": "markdown",
   "metadata": {},
   "source": [
    "Guardamos como producto Final y pasamos a la siguiente API"
   ]
  },
  {
   "cell_type": "code",
   "execution_count": 34,
   "metadata": {},
   "outputs": [],
   "source": [
    "df_gas.to_csv(\"../datos/01_PreciosGas/03_TablaPreciosGasFinal.csv\")"
   ]
  },
  {
   "cell_type": "markdown",
   "metadata": {},
   "source": [
    "# REData API (Red Eléctrica de España)\n",
    "\n",
    "Vamos a obtener el precio mensual de la electricidad en España de 2019 a 2022 para ver la evolución\n",
    "para ello haremos peticiones a esta url:\n",
    "- https://apidatos.ree.es/es/datos/mercados/componentes-precio?start_date=2019-01-01T00:00&end_date=2019-01-31T23:59&time_trunc=month&geo_limit=ccaa\n",
    "\n",
    "Donde vamos a modificar start_date y end_date en varias ocasiones para poder obtenerlo, ya que por limitación, la API solo nos da de año en año\n",
    "Con la siguiente función unimos cada request al DataFrame, donde solo nos interesa el precio y el año y mes"
   ]
  },
  {
   "cell_type": "code",
   "execution_count": 35,
   "metadata": {},
   "outputs": [
    {
     "name": "stdout",
     "output_type": "stream",
     "text": [
      "Realizando Request a: https://apidatos.ree.es/es/datos/mercados/componentes-precio?start_date=2019-01-01T00:00&end_date=2019-12-31T23:59&time_trunc=month&geo_limit=ccaa\n",
      "Backup Realizado: PreciosLuz2019.json\n",
      "Realizando Request a: https://apidatos.ree.es/es/datos/mercados/componentes-precio?start_date=2020-01-01T00:00&end_date=2020-12-31T23:59&time_trunc=month&geo_limit=ccaa\n",
      "Backup Realizado: PreciosLuz2020.json\n",
      "Realizando Request a: https://apidatos.ree.es/es/datos/mercados/componentes-precio?start_date=2021-01-01T00:00&end_date=2021-12-31T23:59&time_trunc=month&geo_limit=ccaa\n",
      "Backup Realizado: PreciosLuz2021.json\n",
      "Realizando Request a: https://apidatos.ree.es/es/datos/mercados/componentes-precio?start_date=2022-01-01T00:00&end_date=2022-12-31T23:59&time_trunc=month&geo_limit=ccaa\n",
      "Backup Realizado: PreciosLuz2022.json\n",
      "Dataframe guardado en: ../datos/02_PreciosLuz\n"
     ]
    }
   ],
   "source": [
    "years = [2019,2020,2021,2022]\n",
    "df_luz = api_luz(years,\"../datos/02_PreciosLuz\")"
   ]
  },
  {
   "cell_type": "code",
   "execution_count": 36,
   "metadata": {},
   "outputs": [
    {
     "data": {
      "text/html": [
       "<div>\n",
       "<style scoped>\n",
       "    .dataframe tbody tr th:only-of-type {\n",
       "        vertical-align: middle;\n",
       "    }\n",
       "\n",
       "    .dataframe tbody tr th {\n",
       "        vertical-align: top;\n",
       "    }\n",
       "\n",
       "    .dataframe thead th {\n",
       "        text-align: right;\n",
       "    }\n",
       "</style>\n",
       "<table border=\"1\" class=\"dataframe\">\n",
       "  <thead>\n",
       "    <tr style=\"text-align: right;\">\n",
       "      <th></th>\n",
       "      <th>index</th>\n",
       "      <th>precio</th>\n",
       "      <th>fecha</th>\n",
       "    </tr>\n",
       "  </thead>\n",
       "  <tbody>\n",
       "    <tr>\n",
       "      <th>0</th>\n",
       "      <td>1</td>\n",
       "      <td>67.91</td>\n",
       "      <td>2019-01-01T00:00:00.000+01:00</td>\n",
       "    </tr>\n",
       "    <tr>\n",
       "      <th>1</th>\n",
       "      <td>2</td>\n",
       "      <td>59.79</td>\n",
       "      <td>2019-02-01T00:00:00.000+01:00</td>\n",
       "    </tr>\n",
       "    <tr>\n",
       "      <th>2</th>\n",
       "      <td>3</td>\n",
       "      <td>54.08</td>\n",
       "      <td>2019-03-01T00:00:00.000+01:00</td>\n",
       "    </tr>\n",
       "    <tr>\n",
       "      <th>3</th>\n",
       "      <td>4</td>\n",
       "      <td>56.54</td>\n",
       "      <td>2019-04-01T00:00:00.000+02:00</td>\n",
       "    </tr>\n",
       "    <tr>\n",
       "      <th>4</th>\n",
       "      <td>5</td>\n",
       "      <td>53.71</td>\n",
       "      <td>2019-05-01T00:00:00.000+02:00</td>\n",
       "    </tr>\n",
       "  </tbody>\n",
       "</table>\n",
       "</div>"
      ],
      "text/plain": [
       "   index  precio                          fecha\n",
       "0      1   67.91  2019-01-01T00:00:00.000+01:00\n",
       "1      2   59.79  2019-02-01T00:00:00.000+01:00\n",
       "2      3   54.08  2019-03-01T00:00:00.000+01:00\n",
       "3      4   56.54  2019-04-01T00:00:00.000+02:00\n",
       "4      5   53.71  2019-05-01T00:00:00.000+02:00"
      ]
     },
     "execution_count": 36,
     "metadata": {},
     "output_type": "execute_result"
    }
   ],
   "source": [
    "df_luz.head()"
   ]
  },
  {
   "cell_type": "code",
   "execution_count": 37,
   "metadata": {},
   "outputs": [
    {
     "name": "stdout",
     "output_type": "stream",
     "text": [
      "<class 'pandas.core.frame.DataFrame'>\n",
      "RangeIndex: 48 entries, 0 to 47\n",
      "Data columns (total 3 columns):\n",
      " #   Column  Non-Null Count  Dtype  \n",
      "---  ------  --------------  -----  \n",
      " 0   index   48 non-null     int64  \n",
      " 1   precio  48 non-null     float64\n",
      " 2   fecha   48 non-null     object \n",
      "dtypes: float64(1), int64(1), object(1)\n",
      "memory usage: 1.3+ KB\n"
     ]
    }
   ],
   "source": [
    "df_luz.info()"
   ]
  },
  {
   "cell_type": "markdown",
   "metadata": {},
   "source": [
    "### Pasar a formato Datetime"
   ]
  },
  {
   "cell_type": "code",
   "execution_count": null,
   "metadata": {},
   "outputs": [
    {
     "data": {
      "text/html": [
       "<div>\n",
       "<style scoped>\n",
       "    .dataframe tbody tr th:only-of-type {\n",
       "        vertical-align: middle;\n",
       "    }\n",
       "\n",
       "    .dataframe tbody tr th {\n",
       "        vertical-align: top;\n",
       "    }\n",
       "\n",
       "    .dataframe thead th {\n",
       "        text-align: right;\n",
       "    }\n",
       "</style>\n",
       "<table border=\"1\" class=\"dataframe\">\n",
       "  <thead>\n",
       "    <tr style=\"text-align: right;\">\n",
       "      <th></th>\n",
       "      <th>index</th>\n",
       "      <th>precio</th>\n",
       "      <th>fecha</th>\n",
       "    </tr>\n",
       "  </thead>\n",
       "  <tbody>\n",
       "    <tr>\n",
       "      <th>0</th>\n",
       "      <td>1</td>\n",
       "      <td>67.91</td>\n",
       "      <td>2019-01-01</td>\n",
       "    </tr>\n",
       "    <tr>\n",
       "      <th>1</th>\n",
       "      <td>2</td>\n",
       "      <td>59.79</td>\n",
       "      <td>2019-02-01</td>\n",
       "    </tr>\n",
       "    <tr>\n",
       "      <th>2</th>\n",
       "      <td>3</td>\n",
       "      <td>54.08</td>\n",
       "      <td>2019-03-01</td>\n",
       "    </tr>\n",
       "    <tr>\n",
       "      <th>3</th>\n",
       "      <td>4</td>\n",
       "      <td>56.54</td>\n",
       "      <td>2019-04-01</td>\n",
       "    </tr>\n",
       "    <tr>\n",
       "      <th>4</th>\n",
       "      <td>5</td>\n",
       "      <td>53.71</td>\n",
       "      <td>2019-05-01</td>\n",
       "    </tr>\n",
       "  </tbody>\n",
       "</table>\n",
       "</div>"
      ],
      "text/plain": [
       "   index  precio      fecha\n",
       "0      1   67.91 2019-01-01\n",
       "1      2   59.79 2019-02-01\n",
       "2      3   54.08 2019-03-01\n",
       "3      4   56.54 2019-04-01\n",
       "4      5   53.71 2019-05-01"
      ]
     },
     "execution_count": 38,
     "metadata": {},
     "output_type": "execute_result"
    }
   ],
   "source": [
    "df_luz[\"fecha\"] = df_luz[\"fecha\"].str.split(\"T\").str[0]\n",
    "df_luz[\"fecha\"] = pd.to_datetime(df_luz[\"fecha\"],format=\"%Y-%m-%d\",utc=False)\n",
    "df_luz.head()"
   ]
  },
  {
   "cell_type": "code",
   "execution_count": 39,
   "metadata": {},
   "outputs": [
    {
     "name": "stdout",
     "output_type": "stream",
     "text": [
      "<class 'pandas.core.frame.DataFrame'>\n",
      "RangeIndex: 48 entries, 0 to 47\n",
      "Data columns (total 3 columns):\n",
      " #   Column  Non-Null Count  Dtype         \n",
      "---  ------  --------------  -----         \n",
      " 0   index   48 non-null     int64         \n",
      " 1   precio  48 non-null     float64       \n",
      " 2   fecha   48 non-null     datetime64[ns]\n",
      "dtypes: datetime64[ns](1), float64(1), int64(1)\n",
      "memory usage: 1.3 KB\n"
     ]
    }
   ],
   "source": [
    "df_luz.info()"
   ]
  },
  {
   "cell_type": "markdown",
   "metadata": {},
   "source": [
    "### Lo Guardamos y continuamos"
   ]
  },
  {
   "cell_type": "code",
   "execution_count": 40,
   "metadata": {},
   "outputs": [],
   "source": [
    "df_luz.to_csv(\"../datos/02_PreciosLuz/02_PreciosLuzFinal.csv\")"
   ]
  }
 ],
 "metadata": {
  "kernelspec": {
   "display_name": "Python 3",
   "language": "python",
   "name": "python3"
  },
  "language_info": {
   "codemirror_mode": {
    "name": "ipython",
    "version": 3
   },
   "file_extension": ".py",
   "mimetype": "text/x-python",
   "name": "python",
   "nbconvert_exporter": "python",
   "pygments_lexer": "ipython3",
   "version": "3.11.9"
  }
 },
 "nbformat": 4,
 "nbformat_minor": 2
}
