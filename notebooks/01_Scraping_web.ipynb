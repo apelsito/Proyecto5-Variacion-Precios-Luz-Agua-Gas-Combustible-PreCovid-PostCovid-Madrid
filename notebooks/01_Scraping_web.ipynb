{
 "cells": [
  {
   "cell_type": "markdown",
   "metadata": {},
   "source": [
    "# Objetivos\n",
    "- Sacar datos gasolina por mes (2019-2022) : https://energia.serviciosmin.gob.es/shpCarburantes/ (SELENIUM)\n",
    "    - Lo vamos a sacar de Gasolina 95,98,Diesel y Diesel Premium\n",
    "\n",
    "- Sacar datos Agua:\n",
    "    - https://facua.org/es/tablas/agua2019.pdf\n",
    "    - https://facua.org/es/tablas/agua_2020.pdf\n",
    "    - https://facua.org/es/tablas/agua2021.pdf\n",
    "    - https://facua.org/es/tablas/agua2022.pdf"
   ]
  },
  {
   "cell_type": "code",
   "execution_count": null,
   "metadata": {},
   "outputs": [],
   "source": [
    "# Importamos las librerías que necesitamos\n",
    "\n",
    "# Librerías para control y automatización de navegadores (Web Scraping)\n",
    "# -----------------------------------------------------------------------\n",
    "from selenium import webdriver                   # Para controlar el navegador automáticamente\n",
    "from selenium.webdriver.chrome.service import Service  # Para manejar los servicios de ChromeDriver\n",
    "from selenium.webdriver.common.by import By      # Para seleccionar elementos en el DOM de la página\n",
    "from selenium.webdriver.chrome.options import Options  # Para establecer opciones en el navegador (como headless mode)\n",
    "\n",
    "# Librerías para el tratamiento y manipulación de datos\n",
    "# -----------------------------------------------------------------------\n",
    "import pandas as pd             # Para manipular estructuras de datos como DataFrames\n",
    "import numpy as np              # Para cálculos numéricos y arrays multidimensionales\n",
    "import datetime                 # Para manejar fechas y horas"
   ]
  },
  {
   "cell_type": "code",
   "execution_count": null,
   "metadata": {},
   "outputs": [],
   "source": [
    "fechas_inicio_mes = pd.date_range(start='2019-01-01', end='2022-12-01', freq='MS')\n",
    "fechas_inicio_mes"
   ]
  },
  {
   "cell_type": "code",
   "execution_count": null,
   "metadata": {},
   "outputs": [],
   "source": [
    "fechas_fin_mes = pd.date_range(start='2019-01-31', end='2022-12-31', freq='ME')\n",
    "fechas_fin_mes"
   ]
  }
 ],
 "metadata": {
  "kernelspec": {
   "display_name": "Python 3",
   "language": "python",
   "name": "python3"
  },
  "language_info": {
   "codemirror_mode": {
    "name": "ipython",
    "version": 3
   },
   "file_extension": ".py",
   "mimetype": "text/x-python",
   "name": "python",
   "nbconvert_exporter": "python",
   "pygments_lexer": "ipython3",
   "version": "3.11.9"
  }
 },
 "nbformat": 4,
 "nbformat_minor": 2
}
