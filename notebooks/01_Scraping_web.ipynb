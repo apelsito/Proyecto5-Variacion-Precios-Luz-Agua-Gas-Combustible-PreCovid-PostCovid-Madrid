{
 "cells": [
  {
   "cell_type": "markdown",
   "metadata": {},
   "source": [
    "# Objetivos\n",
    "- Sacar datos gasolina por mes (2019-2022) : https://energia.serviciosmin.gob.es/shpCarburantes/ (SELENIUM)\n",
    "    - Lo vamos a sacar de Gasolina 95,98,Diesel y Diesel Premium\n",
    "\n",
    "- Sacar datos Agua:\n",
    "    - https://facua.org/es/tablas/agua2019.pdf\n",
    "    - https://facua.org/es/tablas/agua_2020.pdf\n",
    "    - https://facua.org/es/tablas/agua2021.pdf\n",
    "    - https://facua.org/es/tablas/agua2022.pdf"
   ]
  },
  {
   "cell_type": "code",
   "execution_count": null,
   "metadata": {},
   "outputs": [],
   "source": [
    "# Importamos las librerías que necesitamos\n",
    "\n",
    "# Librerías para control y automatización de navegadores (Web Scraping)\n",
    "# -----------------------------------------------------------------------\n",
    "from selenium import webdriver                   # Controla el navegador automáticamente para realizar tareas de scraping\n",
    "from selenium.webdriver.chrome.service import Service  # Gestiona los servicios de ChromeDriver para ejecutar Chrome sin intervención manual\n",
    "from selenium.webdriver.common.by import By      # Selecciona y localiza elementos en el DOM de una página web\n",
    "from selenium.webdriver.chrome.options import Options  # Configura opciones de Chrome, como el modo sin interfaz (headless)\n",
    "from selenium.webdriver.support.ui import WebDriverWait  # Define tiempos de espera para asegurar que elementos estén presentes en el DOM\n",
    "from selenium.webdriver.common.keys import Keys  # Simula la pulsación de teclas en el navegador\n",
    "from selenium.webdriver.support import expected_conditions as EC  # Establece condiciones para determinar cuándo ciertos elementos están presentes\n",
    "\n",
    "# Librerías para el tratamiento y manipulación de datos\n",
    "# -----------------------------------------------------------------------\n",
    "import pandas as pd             # Manipula y analiza datos en estructuras DataFrame\n",
    "import numpy as np              # Realiza cálculos numéricos y manipulación de arrays multidimensionales\n",
    "import datetime                 # Maneja fechas y horas, útil para organizar datos temporalmente\n",
    "\n",
    "# Librerías del sistema y utilidades\n",
    "# -----------------------------------------------------------------------\n",
    "import os                       # Interactúa con el sistema operativo, gestionando rutas y directorios\n",
    "import sys                      # Permite modificar rutas de búsqueda de módulos y gestionar la ejecución del programa\n",
    "sys.path.append(\"../\")          # Añade el directorio padre al PATH para permitir la importación de módulos personalizados\n",
    "\n",
    "# Importación de funciones personalizadas para scraping y procesamiento de datos\n",
    "from src.SupportScraping import (  \n",
    "    precios_combustible,        # Función para realizar scraping de precios de combustible\n",
    "    excel_a_Dataframe,          # Función para procesar archivos Excel y convertirlos en DataFrames\n",
    "    pdf_a_df                    # Función para extraer tablas de archivos PDF y convertirlas en DataFrames\n",
    ")\n",
    "\n",
    "from time import sleep          # Pausa la ejecución del programa por un tiempo determinado\n",
    "import shutil                   # Permite realizar operaciones de alto nivel en archivos y colecciones de archivos, como copiar y mover"
   ]
  },
  {
   "cell_type": "markdown",
   "metadata": {},
   "source": [
    "# Obtener precios Gasolina"
   ]
  },
  {
   "cell_type": "markdown",
   "metadata": {},
   "source": [
    "## Generar rangos de fecha\n",
    "\n",
    "Para poder obtener precios de la Gasolina, necesitamos entrar a la web en rangos de fecha de X a Y"
   ]
  },
  {
   "cell_type": "code",
   "execution_count": 2,
   "metadata": {},
   "outputs": [],
   "source": [
    "fechas_inicio_mes = pd.date_range(start='2019-01-01', end='2022-12-01', freq='YS')\n",
    "fechas_fin_mes = pd.date_range(start='2019-01-31', end='2022-12-31', freq='YE')\n",
    "# Lo pasamos a lista para nuestra función\n",
    "lista_inicio_mes = fechas_inicio_mes.strftime('%d/%m/%Y').tolist()\n",
    "lista_fin_mes = fechas_fin_mes.strftime('%d/%m/%Y').tolist()"
   ]
  },
  {
   "cell_type": "markdown",
   "metadata": {},
   "source": [
    "## Descargar Datos Combustible"
   ]
  },
  {
   "cell_type": "code",
   "execution_count": 3,
   "metadata": {},
   "outputs": [],
   "source": [
    "precios_combustible(lista_inicio_mes,lista_fin_mes)"
   ]
  },
  {
   "cell_type": "markdown",
   "metadata": {},
   "source": [
    "## Preparar DataFrame\n",
    "Dado que es un excel necesitamos la extension xlrd\n",
    "\n",
    "pip install xlrd"
   ]
  },
  {
   "cell_type": "markdown",
   "metadata": {},
   "source": [
    "Ahora con la función le pasamos la ruta absoluta donde están nuestros .xls para que nos devuelva un solo DataFrame"
   ]
  },
  {
   "cell_type": "code",
   "execution_count": 2,
   "metadata": {},
   "outputs": [],
   "source": [
    "ruta_padre = os.path.dirname(os.getcwd())\n",
    "ruta_archivos = os.path.join(ruta_padre, \"datos\", \"03_PreciosCombustible\", \"DatosDescargados\")"
   ]
  },
  {
   "cell_type": "code",
   "execution_count": 3,
   "metadata": {},
   "outputs": [],
   "source": [
    "df_combustible = excel_a_Dataframe(ruta_archivos)"
   ]
  },
  {
   "cell_type": "code",
   "execution_count": 6,
   "metadata": {},
   "outputs": [
    {
     "data": {
      "text/html": [
       "<div>\n",
       "<style scoped>\n",
       "    .dataframe tbody tr th:only-of-type {\n",
       "        vertical-align: middle;\n",
       "    }\n",
       "\n",
       "    .dataframe tbody tr th {\n",
       "        vertical-align: top;\n",
       "    }\n",
       "\n",
       "    .dataframe thead th {\n",
       "        text-align: right;\n",
       "    }\n",
       "</style>\n",
       "<table border=\"1\" class=\"dataframe\">\n",
       "  <thead>\n",
       "    <tr style=\"text-align: right;\">\n",
       "      <th></th>\n",
       "      <th>Fecha</th>\n",
       "      <th>Precio</th>\n",
       "      <th>combustible</th>\n",
       "    </tr>\n",
       "  </thead>\n",
       "  <tbody>\n",
       "    <tr>\n",
       "      <th>0</th>\n",
       "      <td>01/2019</td>\n",
       "      <td>1.228664</td>\n",
       "      <td>Gasolina 95</td>\n",
       "    </tr>\n",
       "    <tr>\n",
       "      <th>1</th>\n",
       "      <td>02/2019</td>\n",
       "      <td>1.271043</td>\n",
       "      <td>Gasolina 95</td>\n",
       "    </tr>\n",
       "    <tr>\n",
       "      <th>2</th>\n",
       "      <td>03/2019</td>\n",
       "      <td>1.305643</td>\n",
       "      <td>Gasolina 95</td>\n",
       "    </tr>\n",
       "    <tr>\n",
       "      <th>3</th>\n",
       "      <td>04/2019</td>\n",
       "      <td>1.369528</td>\n",
       "      <td>Gasolina 95</td>\n",
       "    </tr>\n",
       "    <tr>\n",
       "      <th>4</th>\n",
       "      <td>05/2019</td>\n",
       "      <td>1.387684</td>\n",
       "      <td>Gasolina 95</td>\n",
       "    </tr>\n",
       "  </tbody>\n",
       "</table>\n",
       "</div>"
      ],
      "text/plain": [
       "     Fecha    Precio  combustible\n",
       "0  01/2019  1.228664  Gasolina 95\n",
       "1  02/2019  1.271043  Gasolina 95\n",
       "2  03/2019  1.305643  Gasolina 95\n",
       "3  04/2019  1.369528  Gasolina 95\n",
       "4  05/2019  1.387684  Gasolina 95"
      ]
     },
     "execution_count": 6,
     "metadata": {},
     "output_type": "execute_result"
    }
   ],
   "source": [
    "df_combustible.head()"
   ]
  },
  {
   "cell_type": "markdown",
   "metadata": {},
   "source": [
    "### Ponemos la fecha en DateTime"
   ]
  },
  {
   "cell_type": "code",
   "execution_count": 8,
   "metadata": {},
   "outputs": [],
   "source": [
    "df_combustible[\"Fecha\"] = pd.to_datetime(df_combustible[\"Fecha\"],format=\"%Y-%m-%d\")"
   ]
  },
  {
   "cell_type": "code",
   "execution_count": 10,
   "metadata": {},
   "outputs": [
    {
     "name": "stdout",
     "output_type": "stream",
     "text": [
      "<class 'pandas.core.frame.DataFrame'>\n",
      "RangeIndex: 192 entries, 0 to 191\n",
      "Data columns (total 3 columns):\n",
      " #   Column       Non-Null Count  Dtype         \n",
      "---  ------       --------------  -----         \n",
      " 0   Fecha        192 non-null    datetime64[ns]\n",
      " 1   Precio       192 non-null    float64       \n",
      " 2   combustible  192 non-null    object        \n",
      "dtypes: datetime64[ns](1), float64(1), object(1)\n",
      "memory usage: 4.6+ KB\n"
     ]
    }
   ],
   "source": [
    "df_combustible.info()"
   ]
  },
  {
   "cell_type": "markdown",
   "metadata": {},
   "source": [
    "### Guardamos y pasamos a los precios del Agua"
   ]
  },
  {
   "cell_type": "code",
   "execution_count": 11,
   "metadata": {},
   "outputs": [],
   "source": [
    "df_combustible.to_csv(\"../datos/03_PreciosCombustible/01_TablaPreciosCombustible.csv\")"
   ]
  },
  {
   "cell_type": "markdown",
   "metadata": {},
   "source": [
    "# Precios Agua\n",
    "Vamos a leer varios PDF y vamos a quedarnos con el precio del agua en la comunidad de Madrid"
   ]
  },
  {
   "cell_type": "markdown",
   "metadata": {},
   "source": [
    "pip install pdfplumber"
   ]
  },
  {
   "cell_type": "code",
   "execution_count": 2,
   "metadata": {},
   "outputs": [
    {
     "name": "stdout",
     "output_type": "stream",
     "text": [
      "agua2019.pdf\n",
      "agua2020.pdf\n",
      "agua2021.pdf\n",
      "agua2022.pdf\n",
      "agua2022.pdf no se ha podido realizar\n"
     ]
    }
   ],
   "source": [
    "ruta_padre = os.path.dirname(os.getcwd())\n",
    "ruta_hacer = os.path.join(ruta_padre, \"datos\", \"04_PreciosAgua\",\"01_PDF\")\n",
    "pdf_a_df(ruta_hacer)"
   ]
  },
  {
   "cell_type": "markdown",
   "metadata": {},
   "source": [
    "### 2022 Falla\n",
    "Esto se debe a que Facua ha puesto las tablas como una imagen, se ha intentado leer sin éxito, así que vamos a sacar la información del INE\n",
    "- https://www.ine.es/dyngs/INEbase/es/operacion.htm?c=Estadistica_C&cid=1254736176834&menu=resultados&idp=1254735976602"
   ]
  },
  {
   "cell_type": "code",
   "execution_count": 3,
   "metadata": {},
   "outputs": [],
   "source": [
    "ruta_padre = os.path.dirname(os.getcwd())\n",
    "ruta_hacer = os.path.join(ruta_padre, \"datos\", \"04_PreciosAgua\", \"DatosDescargados\")\n",
    "os.makedirs(ruta_hacer,exist_ok=True)\n",
    "# lo primero que vamos a hacer es configurar nuestras preferencias del navegador para el driver\n",
    "chrome_options = webdriver.ChromeOptions()\n",
    "# establacemos las preferencias que queremos\n",
    "prefs = {               \n",
    "\"download.default_directory\": ruta_hacer,  # AQUÍ CADA UNO TENDREMOS QUE PONER LA RUTA QUE QUERAMOS PARA QUE SE GUARDEN LOS ARCHIVOS DESCARGADOS\n",
    "\"download.prompt_for_download\": False,   # desactiva el diálogo que Chrome normalmente muestra para pedir confirmación del usuario antes de descargar un archivo\n",
    "\"directory_upgrade\": True,    # hace que Chrome actualice el directorio de descarga predeterminado a la nueva ubicación especificada por download.default_directory si esta ha cambiado.\n",
    "}\n",
    "url = \"https://www.ine.es/dyngs/INEbase/es/operacion.htm?c=Estadistica_C&cid=1254736176834&menu=resultados&idp=1254735976602\"\n",
    "chrome_options.add_experimental_option(\"prefs\", prefs)\n",
    "driver = webdriver.Chrome(options=chrome_options)\n",
    "driver.get(url)\n",
    "driver.maximize_window()\n",
    "driver.find_element(\"xpath\",\"/html/body/div[1]/main/section[2]/div/div/div[1]/ul/li/ul/li[2]/a\").click()\n",
    "sleep(0.3)\n",
    "driver.find_element(\"xpath\",\"/html/body/div[1]/main/div[2]/ul/li[3]/ul/li[3]/a\").click()\n",
    "sleep(0.3)\n",
    "tabla1 = driver.find_element(\"xpath\",\"/html/body/div[1]/main/form/ul/li[1]/ul/li[1]/div\")\n",
    "sleep(1)\n",
    "tabla1.find_element(\"xpath\",\"/html/body/div[1]/main/form/ul/li[1]/ul/li[1]/div/fieldset/div[2]/ul/li[1]/ul/li[1]/label\").click()\n",
    "sleep(0.5)\n",
    "tabla1.find_element(\"xpath\",\"/html/body/div[1]/main/form/ul/li[1]/ul/li[1]/div/fieldset/div[2]/ul/li[1]/ul/li[2]/label\").click()\n",
    "sleep(1)\n",
    "tabla1.find_element(\"xpath\",\"/html/body/div[1]/main/form/ul/li[1]/ul/li[1]/div/fieldset/div[1]/input\").send_keys(\"Ceuta\")\n",
    "tabla1.find_element(\"xpath\",\"/html/body/div[1]/main/form/ul/li[1]/ul/li[1]/div/fieldset/div[1]/button\").click()\n",
    "sleep(0.3)\n",
    "tabla1.find_element(\"xpath\",\"/html/body/div[1]/main/form/ul/li[1]/ul/li[1]/div/fieldset/div[2]/ul/li[2]/ul/li[1]/ul/li[13]/node/label\").click()\n",
    "sleep(0.3)\n",
    "driver.find_element(\"xpath\",\"/html/body/div[1]/main/form/div[5]/input[3]\").click()\n",
    "sleep(0.5)\n",
    "driver.find_element(\"xpath\",\"/html/body/div[1]/main/ul/li/div/div/form[2]/button\").click()\n",
    "select_download = WebDriverWait(driver,40).until(EC.presence_of_element_located((\"xpath\",\"/html/body/div[7]/article/div/div/iframe\")))\n",
    "driver.switch_to.frame(select_download)\n",
    "driver.find_element(\"xpath\",\"/html/body/form/ul/li[4]/label\").click()\n",
    "sleep(2)\n",
    "driver.quit()"
   ]
  },
  {
   "cell_type": "markdown",
   "metadata": {},
   "source": [
    "### Movemos y renombramos"
   ]
  },
  {
   "cell_type": "code",
   "execution_count": 4,
   "metadata": {},
   "outputs": [
    {
     "name": "stdout",
     "output_type": "stream",
     "text": [
      "Archivo copiado y renombrado a: c:\\Users\\ruipe\\Desktop\\Ejercicios\\Semana 5\\Proyecto5-Variacion-Precios-Luz-Agua-Gas-Combustible-PreCovid-PostCovid-Madrid\\datos\\04_PreciosAgua\\PreciosAgua2022.csv\n"
     ]
    }
   ],
   "source": [
    "old_name= os.listdir(ruta_hacer)[0]\n",
    "new_name = \"Precio2022Madrid.csv\"\n",
    "os.rename(f\"{ruta_hacer}/{old_name}\",f\"{ruta_hacer}/{new_name}\")\n",
    "old_name = os.listdir(ruta_hacer)[0]\n",
    "old_path = os.path.join(ruta_hacer, old_name)\n",
    "ruta_directorio_anterior = os.path.dirname(ruta_hacer)\n",
    "new_path = os.path.join(ruta_directorio_anterior, \"PreciosAgua2022.csv\")\n",
    "shutil.copy2(old_path, new_path)\n",
    "print(f\"Archivo copiado y renombrado a: {new_path}\")\n"
   ]
  },
  {
   "cell_type": "markdown",
   "metadata": {},
   "source": [
    "# Limpiar DF y concatenar\n"
   ]
  },
  {
   "cell_type": "code",
   "execution_count": 5,
   "metadata": {},
   "outputs": [],
   "source": [
    "df2019 = pd.read_csv(\"../datos/04_PreciosAgua/PreciosAgua2019.csv\",index_col=\"Unnamed: 0\")\n",
    "df2020 = pd.read_csv(\"../datos/04_PreciosAgua/PreciosAgua2020.csv\",index_col=\"Unnamed: 0\")\n",
    "df2021 = pd.read_csv(\"../datos/04_PreciosAgua/PreciosAgua2021.csv\",index_col=\"Unnamed: 0\")\n",
    "df2022 = pd.read_csv(\"../datos/04_PreciosAgua/PreciosAgua2022.csv\",encoding=\"latin-1\",sep=\";\")"
   ]
  },
  {
   "cell_type": "code",
   "execution_count": 6,
   "metadata": {},
   "outputs": [
    {
     "data": {
      "text/html": [
       "<div>\n",
       "<style scoped>\n",
       "    .dataframe tbody tr th:only-of-type {\n",
       "        vertical-align: middle;\n",
       "    }\n",
       "\n",
       "    .dataframe tbody tr th {\n",
       "        vertical-align: top;\n",
       "    }\n",
       "\n",
       "    .dataframe thead th {\n",
       "        text-align: right;\n",
       "    }\n",
       "</style>\n",
       "<table border=\"1\" class=\"dataframe\">\n",
       "  <thead>\n",
       "    <tr style=\"text-align: right;\">\n",
       "      <th></th>\n",
       "      <th>ciudad</th>\n",
       "      <th>consumo (€/m3)</th>\n",
       "      <th>año</th>\n",
       "    </tr>\n",
       "  </thead>\n",
       "  <tbody>\n",
       "    <tr>\n",
       "      <th>0</th>\n",
       "      <td>Madrid</td>\n",
       "      <td>1.57</td>\n",
       "      <td>2019</td>\n",
       "    </tr>\n",
       "  </tbody>\n",
       "</table>\n",
       "</div>"
      ],
      "text/plain": [
       "   ciudad  consumo (€/m3)   año\n",
       "0  Madrid            1.57  2019"
      ]
     },
     "execution_count": 6,
     "metadata": {},
     "output_type": "execute_result"
    }
   ],
   "source": [
    "df2019 = df2019[[\"Ciudades / Total\\nmensual\",\"Consumo de\\n10m3 con\\ncontador\\nindividual de\\n13mm\"]]\n",
    "cond = df2019[\"Ciudades / Total\\nmensual\"].str.contains(\"Madrid\",case=False,na=False)\n",
    "df2019 = df2019[cond].reset_index(drop=True)\n",
    "df2019 = df2019.rename(columns={\"Ciudades / Total\\nmensual\":\"ciudad\",\n",
    "                                \"Consumo de\\n10m3 con\\ncontador\\nindividual de\\n13mm\":\"consumo de 10m3\"})\n",
    "df2019[\"ciudad\"] = \"Madrid\"\n",
    "df2019[\"año\"] = 2019\n",
    "df2019[\"consumo de 10m3\"] = df2019[\"consumo de 10m3\"].str.replace(\",\",\".\").str.strip(\" €\").astype(float)\n",
    "df2019[\"consumo (€/m3)\"] = round(df2019[\"consumo de 10m3\"]/10,2)\n",
    "df2019 = df2019[[\"ciudad\",\"consumo (€/m3)\",\"año\"]]\n",
    "df2019"
   ]
  },
  {
   "cell_type": "code",
   "execution_count": 7,
   "metadata": {},
   "outputs": [
    {
     "data": {
      "text/html": [
       "<div>\n",
       "<style scoped>\n",
       "    .dataframe tbody tr th:only-of-type {\n",
       "        vertical-align: middle;\n",
       "    }\n",
       "\n",
       "    .dataframe tbody tr th {\n",
       "        vertical-align: top;\n",
       "    }\n",
       "\n",
       "    .dataframe thead th {\n",
       "        text-align: right;\n",
       "    }\n",
       "</style>\n",
       "<table border=\"1\" class=\"dataframe\">\n",
       "  <thead>\n",
       "    <tr style=\"text-align: right;\">\n",
       "      <th></th>\n",
       "      <th>ciudad</th>\n",
       "      <th>consumo (€/m3)</th>\n",
       "      <th>año</th>\n",
       "    </tr>\n",
       "  </thead>\n",
       "  <tbody>\n",
       "    <tr>\n",
       "      <th>0</th>\n",
       "      <td>Madrid</td>\n",
       "      <td>1.65</td>\n",
       "      <td>2020</td>\n",
       "    </tr>\n",
       "  </tbody>\n",
       "</table>\n",
       "</div>"
      ],
      "text/plain": [
       "   ciudad  consumo (€/m3)   año\n",
       "0  Madrid            1.65  2020"
      ]
     },
     "execution_count": 7,
     "metadata": {},
     "output_type": "execute_result"
    }
   ],
   "source": [
    "df2020 = df2020[[\"Ciudades / Total mensual\",\"Consumo\\nde 9m3 con\\ncontador\\nindividual\\nde 13mm\"]]\n",
    "cond = df2020[\"Ciudades / Total mensual\"].str.contains(\"Madrid\",case=False,na=False)\n",
    "df2020 = df2020[cond].reset_index(drop=True)\n",
    "df2020 = df2020.rename(columns={\"Ciudades / Total mensual\":\"ciudad\",\n",
    "                                \"Consumo\\nde 9m3 con\\ncontador\\nindividual\\nde 13mm\":\"consumo de 9m3\"})\n",
    "df2020[\"ciudad\"] = \"Madrid\"\n",
    "df2020[\"año\"] = 2020\n",
    "df2020[\"consumo de 9m3\"] = df2020[\"consumo de 9m3\"].str.replace(\",\",\".\").str.strip(\" €\").astype(float)\n",
    "df2020[\"consumo (€/m3)\"] = round(df2020[\"consumo de 9m3\"]/9,2)\n",
    "df2020 = df2020[[\"ciudad\",\"consumo (€/m3)\",\"año\"]]\n",
    "df2020"
   ]
  },
  {
   "cell_type": "code",
   "execution_count": 8,
   "metadata": {},
   "outputs": [
    {
     "data": {
      "text/html": [
       "<div>\n",
       "<style scoped>\n",
       "    .dataframe tbody tr th:only-of-type {\n",
       "        vertical-align: middle;\n",
       "    }\n",
       "\n",
       "    .dataframe tbody tr th {\n",
       "        vertical-align: top;\n",
       "    }\n",
       "\n",
       "    .dataframe thead th {\n",
       "        text-align: right;\n",
       "    }\n",
       "</style>\n",
       "<table border=\"1\" class=\"dataframe\">\n",
       "  <thead>\n",
       "    <tr style=\"text-align: right;\">\n",
       "      <th></th>\n",
       "      <th>ciudad</th>\n",
       "      <th>consumo (€/m3)</th>\n",
       "      <th>año</th>\n",
       "    </tr>\n",
       "  </thead>\n",
       "  <tbody>\n",
       "    <tr>\n",
       "      <th>0</th>\n",
       "      <td>Madrid</td>\n",
       "      <td>1.65</td>\n",
       "      <td>2021</td>\n",
       "    </tr>\n",
       "  </tbody>\n",
       "</table>\n",
       "</div>"
      ],
      "text/plain": [
       "   ciudad  consumo (€/m3)   año\n",
       "0  Madrid            1.65  2021"
      ]
     },
     "execution_count": 8,
     "metadata": {},
     "output_type": "execute_result"
    }
   ],
   "source": [
    "df2021 = df2021[[\"Ciudades / Total\\nmensual\",\"Consumo\\nde 9m3 con\\ncontador\\nindividual\\nde 13mm\"]]\n",
    "cond = df2021[\"Ciudades / Total\\nmensual\"].str.contains(\"Madrid\",case=False,na=False)\n",
    "df2021 = df2021[cond].reset_index(drop=True)\n",
    "df2021 = df2021.rename(columns={\"Ciudades / Total\\nmensual\":\"ciudad\",\n",
    "                                \"Consumo\\nde 9m3 con\\ncontador\\nindividual\\nde 13mm\":\"consumo de 9m3\"})\n",
    "df2021[\"ciudad\"] = \"Madrid\"\n",
    "df2021[\"año\"] = 2021\n",
    "df2021[\"consumo de 9m3\"] = df2021[\"consumo de 9m3\"].str.replace(\",\",\".\").str.strip(\" €\").astype(float)\n",
    "df2021[\"consumo (€/m3)\"] = round(df2021[\"consumo de 9m3\"]/9,2)\n",
    "df2021 = df2021[[\"ciudad\",\"consumo (€/m3)\",\"año\"]]\n",
    "df2021"
   ]
  },
  {
   "cell_type": "code",
   "execution_count": 9,
   "metadata": {},
   "outputs": [
    {
     "data": {
      "text/html": [
       "<div>\n",
       "<style scoped>\n",
       "    .dataframe tbody tr th:only-of-type {\n",
       "        vertical-align: middle;\n",
       "    }\n",
       "\n",
       "    .dataframe tbody tr th {\n",
       "        vertical-align: top;\n",
       "    }\n",
       "\n",
       "    .dataframe thead th {\n",
       "        text-align: right;\n",
       "    }\n",
       "</style>\n",
       "<table border=\"1\" class=\"dataframe\">\n",
       "  <thead>\n",
       "    <tr style=\"text-align: right;\">\n",
       "      <th></th>\n",
       "      <th>ciudad</th>\n",
       "      <th>consumo (€/m3)</th>\n",
       "      <th>año</th>\n",
       "    </tr>\n",
       "  </thead>\n",
       "  <tbody>\n",
       "    <tr>\n",
       "      <th>0</th>\n",
       "      <td>Madrid</td>\n",
       "      <td>1.8</td>\n",
       "      <td>2022</td>\n",
       "    </tr>\n",
       "  </tbody>\n",
       "</table>\n",
       "</div>"
      ],
      "text/plain": [
       "   ciudad  consumo (€/m3)   año\n",
       "0  Madrid             1.8  2022"
      ]
     },
     "execution_count": 9,
     "metadata": {},
     "output_type": "execute_result"
    }
   ],
   "source": [
    "df2022 = df2022[[\"Comunidades y Ciudades Autónomas\",\"Total\",\"año\"]]\n",
    "df2022 = df2022.rename(columns={\"Comunidades y Ciudades Autónomas\":\"ciudad\",\n",
    "                        \"Total\":\"consumo (€/m3)\"})\n",
    "df2022[\"consumo (€/m3)\"] = df2022[\"consumo (€/m3)\"].str.replace(\",\",\".\").astype(float)\n",
    "df2022[\"ciudad\"] = \"Madrid\"\n",
    "df2022"
   ]
  },
  {
   "cell_type": "code",
   "execution_count": 10,
   "metadata": {},
   "outputs": [
    {
     "data": {
      "text/html": [
       "<div>\n",
       "<style scoped>\n",
       "    .dataframe tbody tr th:only-of-type {\n",
       "        vertical-align: middle;\n",
       "    }\n",
       "\n",
       "    .dataframe tbody tr th {\n",
       "        vertical-align: top;\n",
       "    }\n",
       "\n",
       "    .dataframe thead th {\n",
       "        text-align: right;\n",
       "    }\n",
       "</style>\n",
       "<table border=\"1\" class=\"dataframe\">\n",
       "  <thead>\n",
       "    <tr style=\"text-align: right;\">\n",
       "      <th></th>\n",
       "      <th>ciudad</th>\n",
       "      <th>consumo (€/m3)</th>\n",
       "      <th>año</th>\n",
       "    </tr>\n",
       "  </thead>\n",
       "  <tbody>\n",
       "    <tr>\n",
       "      <th>0</th>\n",
       "      <td>Madrid</td>\n",
       "      <td>1.57</td>\n",
       "      <td>2019</td>\n",
       "    </tr>\n",
       "    <tr>\n",
       "      <th>1</th>\n",
       "      <td>Madrid</td>\n",
       "      <td>1.65</td>\n",
       "      <td>2020</td>\n",
       "    </tr>\n",
       "    <tr>\n",
       "      <th>2</th>\n",
       "      <td>Madrid</td>\n",
       "      <td>1.65</td>\n",
       "      <td>2021</td>\n",
       "    </tr>\n",
       "    <tr>\n",
       "      <th>3</th>\n",
       "      <td>Madrid</td>\n",
       "      <td>1.80</td>\n",
       "      <td>2022</td>\n",
       "    </tr>\n",
       "  </tbody>\n",
       "</table>\n",
       "</div>"
      ],
      "text/plain": [
       "   ciudad  consumo (€/m3)   año\n",
       "0  Madrid            1.57  2019\n",
       "1  Madrid            1.65  2020\n",
       "2  Madrid            1.65  2021\n",
       "3  Madrid            1.80  2022"
      ]
     },
     "execution_count": 10,
     "metadata": {},
     "output_type": "execute_result"
    }
   ],
   "source": [
    "df_agua = pd.concat([df2019,df2020,df2021,df2022],ignore_index=True)\n",
    "df_agua"
   ]
  },
  {
   "cell_type": "markdown",
   "metadata": {},
   "source": [
    "# Creamos un precio por mes\n",
    "\n",
    "Dado que no hay datos mensuales sobre el agua, con objetivo de mantener la estructura de datos, vamos a asumir que el precio del agua varia cada año y se mantiene cada mes"
   ]
  },
  {
   "cell_type": "code",
   "execution_count": 11,
   "metadata": {},
   "outputs": [],
   "source": [
    "df_agua = df_agua.drop(columns=[\"ciudad\"])\n",
    "years = df_agua['año'].tolist()\n",
    "precios = df_agua['consumo (€/m3)'].tolist()\n",
    "fechas = []\n",
    "precios_mes = []\n",
    "for year, price in zip(years, precios):\n",
    "    fechas.extend(pd.date_range(start=f'{year}-01-01', periods=12, freq='MS'))\n",
    "    precios_mes.extend([price] * 12)\n",
    "    \n",
    "df_agua = pd.DataFrame({\n",
    "    'fecha': fechas,\n",
    "    'consumo (€/m3)': precios_mes\n",
    "})"
   ]
  },
  {
   "cell_type": "code",
   "execution_count": 13,
   "metadata": {},
   "outputs": [
    {
     "data": {
      "text/html": [
       "<div>\n",
       "<style scoped>\n",
       "    .dataframe tbody tr th:only-of-type {\n",
       "        vertical-align: middle;\n",
       "    }\n",
       "\n",
       "    .dataframe tbody tr th {\n",
       "        vertical-align: top;\n",
       "    }\n",
       "\n",
       "    .dataframe thead th {\n",
       "        text-align: right;\n",
       "    }\n",
       "</style>\n",
       "<table border=\"1\" class=\"dataframe\">\n",
       "  <thead>\n",
       "    <tr style=\"text-align: right;\">\n",
       "      <th></th>\n",
       "      <th>fecha</th>\n",
       "      <th>consumo (€/m3)</th>\n",
       "    </tr>\n",
       "  </thead>\n",
       "  <tbody>\n",
       "    <tr>\n",
       "      <th>0</th>\n",
       "      <td>2019-01-01</td>\n",
       "      <td>1.57</td>\n",
       "    </tr>\n",
       "    <tr>\n",
       "      <th>1</th>\n",
       "      <td>2019-02-01</td>\n",
       "      <td>1.57</td>\n",
       "    </tr>\n",
       "    <tr>\n",
       "      <th>2</th>\n",
       "      <td>2019-03-01</td>\n",
       "      <td>1.57</td>\n",
       "    </tr>\n",
       "    <tr>\n",
       "      <th>3</th>\n",
       "      <td>2019-04-01</td>\n",
       "      <td>1.57</td>\n",
       "    </tr>\n",
       "    <tr>\n",
       "      <th>4</th>\n",
       "      <td>2019-05-01</td>\n",
       "      <td>1.57</td>\n",
       "    </tr>\n",
       "  </tbody>\n",
       "</table>\n",
       "</div>"
      ],
      "text/plain": [
       "       fecha  consumo (€/m3)\n",
       "0 2019-01-01            1.57\n",
       "1 2019-02-01            1.57\n",
       "2 2019-03-01            1.57\n",
       "3 2019-04-01            1.57\n",
       "4 2019-05-01            1.57"
      ]
     },
     "execution_count": 13,
     "metadata": {},
     "output_type": "execute_result"
    }
   ],
   "source": [
    "df_agua.head()"
   ]
  },
  {
   "cell_type": "code",
   "execution_count": 14,
   "metadata": {},
   "outputs": [],
   "source": [
    "df_agua.to_csv(\"../datos/04_PreciosAgua/01_PreciosAguaFinal.csv\")"
   ]
  }
 ],
 "metadata": {
  "kernelspec": {
   "display_name": "Python 3",
   "language": "python",
   "name": "python3"
  },
  "language_info": {
   "codemirror_mode": {
    "name": "ipython",
    "version": 3
   },
   "file_extension": ".py",
   "mimetype": "text/x-python",
   "name": "python",
   "nbconvert_exporter": "python",
   "pygments_lexer": "ipython3",
   "version": "3.11.9"
  }
 },
 "nbformat": 4,
 "nbformat_minor": 2
}
