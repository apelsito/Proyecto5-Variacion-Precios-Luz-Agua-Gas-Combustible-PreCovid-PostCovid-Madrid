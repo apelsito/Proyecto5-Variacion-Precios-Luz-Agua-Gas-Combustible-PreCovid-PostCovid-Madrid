{
 "cells": [
  {
   "cell_type": "code",
   "execution_count": null,
   "metadata": {},
   "outputs": [
    {
     "data": {
      "text/plain": [
       "True"
      ]
     },
     "execution_count": 1,
     "metadata": {},
     "output_type": "execute_result"
    }
   ],
   "source": [
    "# Importación de librerías necesarias para trabajar con bases de datos y DataFrames\n",
    "\n",
    "# Conexión y manejo de bases de datos PostgreSQL\n",
    "# -----------------------------------------------------------------------\n",
    "import psycopg2                                   # Permite la conexión y ejecución de consultas en bases de datos PostgreSQL\n",
    "from psycopg2 import OperationalError, errorcodes, errors  # Maneja errores específicos de psycopg2 para un control detallado de excepciones\n",
    "\n",
    "# Manipulación de DataFrames\n",
    "# -----------------------------------------------------------------------\n",
    "import pandas as pd                               # Manipulación y análisis de datos en estructuras DataFrame, ideal para trabajar con datos tabulares\n",
    "\n",
    "# Librerías del sistema y utilidades\n",
    "# -----------------------------------------------------------------------\n",
    "import os                                         # Interactúa con el sistema operativo para gestionar rutas y archivos\n",
    "import sys                                        # Modifica las rutas de búsqueda de módulos y permite gestionar la ejecución del programa\n",
    "sys.path.append(\"../\")                            # Añade el directorio padre al PATH para permitir la importación de módulos personalizados\n",
    "\n",
    "# Importación de funciones personalizadas para trabajar con la base de datos\n",
    "from src.SupportDB import (\n",
    "    conectarse_a_bd,                              # Establece la conexión con la base de datos\n",
    "    consulta_sql                                  # Realiza consultas SQL a la base de datos y devuelve los resultados\n",
    ")\n",
    "\n",
    "# Manejo de variables de entorno\n",
    "# -----------------------------------------------------------------------\n",
    "import dotenv                                     # Carga variables de entorno desde un archivo .env para configuración segura\n",
    "dotenv.load_dotenv()                              # Carga las variables de entorno necesarias para la conexión segura"
   ]
  },
  {
   "cell_type": "markdown",
   "metadata": {},
   "source": [
    "### Cargamos lo necesario para crear y conectarnos a la base de datos"
   ]
  },
  {
   "cell_type": "code",
   "execution_count": 2,
   "metadata": {},
   "outputs": [],
   "source": [
    "db = \"proyecto5\"\n",
    "user = os.getenv(\"user\")\n",
    "key = os.getenv(\"sql\")\n",
    "host = os.getenv(\"host\")\n",
    "port = os.getenv(\"port\")"
   ]
  },
  {
   "cell_type": "markdown",
   "metadata": {},
   "source": [
    "### Nos conectamos a la base de datos"
   ]
  },
  {
   "cell_type": "code",
   "execution_count": 3,
   "metadata": {},
   "outputs": [
    {
     "name": "stdout",
     "output_type": "stream",
     "text": [
      "Conectado a la base de datos: proyecto5\n"
     ]
    }
   ],
   "source": [
    "conexion = conectarse_a_bd(db,user,key,host,port)\n",
    "cursor = conexion.cursor()"
   ]
  },
  {
   "cell_type": "markdown",
   "metadata": {},
   "source": [
    "### Evolución Anual del Precio Promedio por Categoría"
   ]
  },
  {
   "cell_type": "code",
   "execution_count": 7,
   "metadata": {},
   "outputs": [
    {
     "name": "stdout",
     "output_type": "stream",
     "text": [
      "Conectado a la base de datos: proyecto5\n"
     ]
    },
    {
     "data": {
      "text/html": [
       "<div>\n",
       "<style scoped>\n",
       "    .dataframe tbody tr th:only-of-type {\n",
       "        vertical-align: middle;\n",
       "    }\n",
       "\n",
       "    .dataframe tbody tr th {\n",
       "        vertical-align: top;\n",
       "    }\n",
       "\n",
       "    .dataframe thead th {\n",
       "        text-align: right;\n",
       "    }\n",
       "</style>\n",
       "<table border=\"1\" class=\"dataframe\">\n",
       "  <thead>\n",
       "    <tr style=\"text-align: right;\">\n",
       "      <th></th>\n",
       "      <th>categoria</th>\n",
       "      <th>precio_promedio</th>\n",
       "      <th>anio</th>\n",
       "    </tr>\n",
       "  </thead>\n",
       "  <tbody>\n",
       "    <tr>\n",
       "      <th>5</th>\n",
       "      <td>combustible</td>\n",
       "      <td>1.22</td>\n",
       "      <td>2020</td>\n",
       "    </tr>\n",
       "  </tbody>\n",
       "</table>\n",
       "</div>"
      ],
      "text/plain": [
       "     categoria precio_promedio  anio\n",
       "5  combustible            1.22  2020"
      ]
     },
     "execution_count": 7,
     "metadata": {},
     "output_type": "execute_result"
    }
   ],
   "source": [
    "conexion = conectarse_a_bd(db,user,key,host,port)\n",
    "query = \"\"\" SELECT \n",
    "                categoria,\n",
    "                ROUND(AVG(precio)::NUMERIC,2) AS precio_promedio,\n",
    "                EXTRACT(YEAR FROM fecha) AS anio\n",
    "            FROM historico_precios\n",
    "            NATURAL JOIN categorias\n",
    "            NATURAL JOIN fechas\n",
    "            GROUP BY categoria, anio\n",
    "            ORDER BY categoria, anio;\"\"\"\n",
    "\n",
    "df_consulta1 = consulta_sql(conexion,query)\n",
    "df_consulta1.to_csv(\"../datos/06_TablasPreVisualizacion/01_evolucion_anual_precio_promedio_por_categoria.csv\")\n",
    "df_consulta1.sample()"
   ]
  },
  {
   "cell_type": "markdown",
   "metadata": {},
   "source": [
    "### Variación Mensual de Precio por categoría"
   ]
  },
  {
   "cell_type": "code",
   "execution_count": 8,
   "metadata": {},
   "outputs": [
    {
     "name": "stdout",
     "output_type": "stream",
     "text": [
      "Conectado a la base de datos: proyecto5\n"
     ]
    },
    {
     "data": {
      "text/html": [
       "<div>\n",
       "<style scoped>\n",
       "    .dataframe tbody tr th:only-of-type {\n",
       "        vertical-align: middle;\n",
       "    }\n",
       "\n",
       "    .dataframe tbody tr th {\n",
       "        vertical-align: top;\n",
       "    }\n",
       "\n",
       "    .dataframe thead th {\n",
       "        text-align: right;\n",
       "    }\n",
       "</style>\n",
       "<table border=\"1\" class=\"dataframe\">\n",
       "  <thead>\n",
       "    <tr style=\"text-align: right;\">\n",
       "      <th></th>\n",
       "      <th>categoria</th>\n",
       "      <th>precio_promedio</th>\n",
       "      <th>fecha</th>\n",
       "    </tr>\n",
       "  </thead>\n",
       "  <tbody>\n",
       "    <tr>\n",
       "      <th>152</th>\n",
       "      <td>luz</td>\n",
       "      <td>46.76</td>\n",
       "      <td>2019-09-01</td>\n",
       "    </tr>\n",
       "  </tbody>\n",
       "</table>\n",
       "</div>"
      ],
      "text/plain": [
       "    categoria precio_promedio       fecha\n",
       "152       luz           46.76  2019-09-01"
      ]
     },
     "execution_count": 8,
     "metadata": {},
     "output_type": "execute_result"
    }
   ],
   "source": [
    "conexion = conectarse_a_bd(db,user,key,host,port)\n",
    "query = \"\"\" SELECT \n",
    "                categoria,\n",
    "                ROUND(AVG(precio)::NUMERIC,2) AS precio_promedio,\n",
    "                fecha\n",
    "            FROM historico_precios\n",
    "            NATURAL JOIN categorias\n",
    "            NATURAL JOIN fechas\n",
    "            GROUP BY categoria,fecha\n",
    "            ORDER BY categoria,fecha;\"\"\"\n",
    "\n",
    "df_consulta2 = consulta_sql(conexion,query)\n",
    "df_consulta2.to_csv(\"../datos/06_TablasPreVisualizacion/02_variacion_mensual_precio_por_categoria.csv\")\n",
    "df_consulta2.sample()"
   ]
  },
  {
   "cell_type": "markdown",
   "metadata": {},
   "source": [
    "### Variacion Mensual de la Luz"
   ]
  },
  {
   "cell_type": "code",
   "execution_count": 9,
   "metadata": {},
   "outputs": [
    {
     "name": "stdout",
     "output_type": "stream",
     "text": [
      "Conectado a la base de datos: proyecto5\n"
     ]
    },
    {
     "data": {
      "text/html": [
       "<div>\n",
       "<style scoped>\n",
       "    .dataframe tbody tr th:only-of-type {\n",
       "        vertical-align: middle;\n",
       "    }\n",
       "\n",
       "    .dataframe tbody tr th {\n",
       "        vertical-align: top;\n",
       "    }\n",
       "\n",
       "    .dataframe thead th {\n",
       "        text-align: right;\n",
       "    }\n",
       "</style>\n",
       "<table border=\"1\" class=\"dataframe\">\n",
       "  <thead>\n",
       "    <tr style=\"text-align: right;\">\n",
       "      <th></th>\n",
       "      <th>categoria</th>\n",
       "      <th>fecha</th>\n",
       "      <th>precio_promedio</th>\n",
       "    </tr>\n",
       "  </thead>\n",
       "  <tbody>\n",
       "    <tr>\n",
       "      <th>4</th>\n",
       "      <td>luz</td>\n",
       "      <td>2019-05-01</td>\n",
       "      <td>53.71</td>\n",
       "    </tr>\n",
       "  </tbody>\n",
       "</table>\n",
       "</div>"
      ],
      "text/plain": [
       "  categoria       fecha precio_promedio\n",
       "4       luz  2019-05-01           53.71"
      ]
     },
     "execution_count": 9,
     "metadata": {},
     "output_type": "execute_result"
    }
   ],
   "source": [
    "conexion = conectarse_a_bd(db,user,key,host,port)\n",
    "query = \"\"\" SELECT \n",
    "                categoria,\n",
    "                fecha,\n",
    "            ROUND(AVG(precio)::NUMERIC, 2) AS precio_promedio\n",
    "            FROM historico_precios\n",
    "            NATURAL JOIN categorias\n",
    "            NATURAL JOIN fechas\n",
    "            WHERE categoria = 'luz'\n",
    "            GROUP BY categoria, fecha\n",
    "            ORDER BY fecha;\"\"\"\n",
    "df_consulta3 = consulta_sql(conexion,query)\n",
    "df_consulta3.to_csv(\"../datos/06_TablasPreVisualizacion/03_variacion_mensual_luz.csv\")\n",
    "df_consulta3.sample()"
   ]
  },
  {
   "cell_type": "markdown",
   "metadata": {},
   "source": [
    "### Variacion Mensual del gas"
   ]
  },
  {
   "cell_type": "code",
   "execution_count": 10,
   "metadata": {},
   "outputs": [
    {
     "name": "stdout",
     "output_type": "stream",
     "text": [
      "Conectado a la base de datos: proyecto5\n"
     ]
    },
    {
     "data": {
      "text/html": [
       "<div>\n",
       "<style scoped>\n",
       "    .dataframe tbody tr th:only-of-type {\n",
       "        vertical-align: middle;\n",
       "    }\n",
       "\n",
       "    .dataframe tbody tr th {\n",
       "        vertical-align: top;\n",
       "    }\n",
       "\n",
       "    .dataframe thead th {\n",
       "        text-align: right;\n",
       "    }\n",
       "</style>\n",
       "<table border=\"1\" class=\"dataframe\">\n",
       "  <thead>\n",
       "    <tr style=\"text-align: right;\">\n",
       "      <th></th>\n",
       "      <th>categoria</th>\n",
       "      <th>fecha</th>\n",
       "      <th>precio_promedio</th>\n",
       "    </tr>\n",
       "  </thead>\n",
       "  <tbody>\n",
       "    <tr>\n",
       "      <th>6</th>\n",
       "      <td>gas</td>\n",
       "      <td>2019-07-01</td>\n",
       "      <td>13.24</td>\n",
       "    </tr>\n",
       "  </tbody>\n",
       "</table>\n",
       "</div>"
      ],
      "text/plain": [
       "  categoria       fecha precio_promedio\n",
       "6       gas  2019-07-01           13.24"
      ]
     },
     "execution_count": 10,
     "metadata": {},
     "output_type": "execute_result"
    }
   ],
   "source": [
    "conexion = conectarse_a_bd(db,user,key,host,port)\n",
    "query = \"\"\" SELECT \n",
    "                categoria,\n",
    "                fecha,\n",
    "                ROUND(AVG(precio)::NUMERIC, 2) AS precio_promedio\n",
    "            FROM historico_precios\n",
    "            NATURAL JOIN categorias\n",
    "            NATURAL JOIN fechas\n",
    "            WHERE categoria = 'gas'\n",
    "            GROUP BY categoria, fecha\n",
    "            ORDER BY fecha;\"\"\"\n",
    "df_consulta4 = consulta_sql(conexion,query)\n",
    "df_consulta4.to_csv(\"../datos/06_TablasPreVisualizacion/04_variacion_mensual_gas.csv\")\n",
    "df_consulta4.sample()"
   ]
  },
  {
   "cell_type": "markdown",
   "metadata": {},
   "source": [
    "### Variación Mensual de Precio por Combustible"
   ]
  },
  {
   "cell_type": "code",
   "execution_count": 11,
   "metadata": {},
   "outputs": [
    {
     "name": "stdout",
     "output_type": "stream",
     "text": [
      "Conectado a la base de datos: proyecto5\n"
     ]
    },
    {
     "data": {
      "text/html": [
       "<div>\n",
       "<style scoped>\n",
       "    .dataframe tbody tr th:only-of-type {\n",
       "        vertical-align: middle;\n",
       "    }\n",
       "\n",
       "    .dataframe tbody tr th {\n",
       "        vertical-align: top;\n",
       "    }\n",
       "\n",
       "    .dataframe thead th {\n",
       "        text-align: right;\n",
       "    }\n",
       "</style>\n",
       "<table border=\"1\" class=\"dataframe\">\n",
       "  <thead>\n",
       "    <tr style=\"text-align: right;\">\n",
       "      <th></th>\n",
       "      <th>combustible</th>\n",
       "      <th>precio_promedio</th>\n",
       "      <th>fecha</th>\n",
       "    </tr>\n",
       "  </thead>\n",
       "  <tbody>\n",
       "    <tr>\n",
       "      <th>8</th>\n",
       "      <td>Diésel</td>\n",
       "      <td>1.246124</td>\n",
       "      <td>2019-09-01</td>\n",
       "    </tr>\n",
       "  </tbody>\n",
       "</table>\n",
       "</div>"
      ],
      "text/plain": [
       "  combustible  precio_promedio       fecha\n",
       "8      Diésel         1.246124  2019-09-01"
      ]
     },
     "execution_count": 11,
     "metadata": {},
     "output_type": "execute_result"
    }
   ],
   "source": [
    "conexion = conectarse_a_bd(db,user,key,host,port)\n",
    "query = \"\"\" SELECT \n",
    "                combustible,\n",
    "                AVG(precio) AS precio_promedio,\n",
    "                fecha\n",
    "            FROM historico_precios\n",
    "\t        NATURAL JOIN combustibles\n",
    "\t        NATURAL JOIN fechas\n",
    "\t        NATURAL JOIN categorias\n",
    "            WHERE categoria = 'combustible'\n",
    "            GROUP BY combustible, fecha\n",
    "            ORDER BY combustible, fecha;\"\"\"\n",
    "df_consulta5 = consulta_sql(conexion,query)\n",
    "df_consulta5.to_csv(\"../datos/06_TablasPreVisualizacion/05_variacion_mensual_precio_combustible.csv\")\n",
    "df_consulta5.sample()"
   ]
  },
  {
   "cell_type": "markdown",
   "metadata": {},
   "source": [
    "### Variacion Mensual del Agua"
   ]
  },
  {
   "cell_type": "code",
   "execution_count": 12,
   "metadata": {},
   "outputs": [
    {
     "name": "stdout",
     "output_type": "stream",
     "text": [
      "Conectado a la base de datos: proyecto5\n"
     ]
    },
    {
     "data": {
      "text/html": [
       "<div>\n",
       "<style scoped>\n",
       "    .dataframe tbody tr th:only-of-type {\n",
       "        vertical-align: middle;\n",
       "    }\n",
       "\n",
       "    .dataframe tbody tr th {\n",
       "        vertical-align: top;\n",
       "    }\n",
       "\n",
       "    .dataframe thead th {\n",
       "        text-align: right;\n",
       "    }\n",
       "</style>\n",
       "<table border=\"1\" class=\"dataframe\">\n",
       "  <thead>\n",
       "    <tr style=\"text-align: right;\">\n",
       "      <th></th>\n",
       "      <th>categoria</th>\n",
       "      <th>fecha</th>\n",
       "      <th>precio_promedio</th>\n",
       "    </tr>\n",
       "  </thead>\n",
       "  <tbody>\n",
       "    <tr>\n",
       "      <th>25</th>\n",
       "      <td>agua</td>\n",
       "      <td>2021-02-01</td>\n",
       "      <td>1.65</td>\n",
       "    </tr>\n",
       "  </tbody>\n",
       "</table>\n",
       "</div>"
      ],
      "text/plain": [
       "   categoria       fecha precio_promedio\n",
       "25      agua  2021-02-01            1.65"
      ]
     },
     "execution_count": 12,
     "metadata": {},
     "output_type": "execute_result"
    }
   ],
   "source": [
    "conexion = conectarse_a_bd(db,user,key,host,port)\n",
    "query = \"\"\" SELECT \n",
    "                categoria,\n",
    "                fecha,\n",
    "                ROUND(AVG(precio)::NUMERIC, 2) AS precio_promedio\n",
    "            FROM historico_precios\n",
    "            NATURAL JOIN categorias\n",
    "            NATURAL JOIN fechas\n",
    "            WHERE categoria = 'agua'\n",
    "            GROUP BY categoria, fecha\n",
    "            ORDER BY fecha;\"\"\"\n",
    "df_consulta6 = consulta_sql(conexion,query)\n",
    "df_consulta6.to_csv(\"../datos/06_TablasPreVisualizacion/06_variacion_mensual_agua.csv\")\n",
    "df_consulta6.sample()"
   ]
  }
 ],
 "metadata": {
  "kernelspec": {
   "display_name": "Python 3",
   "language": "python",
   "name": "python3"
  },
  "language_info": {
   "codemirror_mode": {
    "name": "ipython",
    "version": 3
   },
   "file_extension": ".py",
   "mimetype": "text/x-python",
   "name": "python",
   "nbconvert_exporter": "python",
   "pygments_lexer": "ipython3",
   "version": "3.11.9"
  }
 },
 "nbformat": 4,
 "nbformat_minor": 2
}
