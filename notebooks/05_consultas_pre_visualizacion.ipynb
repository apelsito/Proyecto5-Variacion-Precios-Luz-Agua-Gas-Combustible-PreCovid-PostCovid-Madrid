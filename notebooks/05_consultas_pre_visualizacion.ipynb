{
 "cells": [
  {
   "cell_type": "code",
   "execution_count": 1,
   "metadata": {},
   "outputs": [
    {
     "data": {
      "text/plain": [
       "True"
      ]
     },
     "execution_count": 1,
     "metadata": {},
     "output_type": "execute_result"
    }
   ],
   "source": [
    "# Importación de librerías necesarias para trabajar con bases de datos y DataFrames\n",
    "\n",
    "# Conexión y manejo de bases de datos PostgreSQL\n",
    "# -----------------------------------------------------------------------\n",
    "import psycopg2                                 # Conexión con bases de datos PostgreSQL\n",
    "from psycopg2 import OperationalError, errorcodes, errors  # Manejo de errores específicos de psycopg2\n",
    "\n",
    "# Manipulación de DataFrames\n",
    "# -----------------------------------------------------------------------\n",
    "import pandas as pd                             # Manipulación y análisis de datos en estructuras DataFrame\n",
    "import os\n",
    "import sys\n",
    "sys.path.append(\"../\")\n",
    "from src.SupportDB import (\n",
    "    conectarse_a_bd,\n",
    "    consulta_sql\n",
    ")\n",
    "\n",
    "import dotenv\n",
    "dotenv.load_dotenv()"
   ]
  },
  {
   "cell_type": "markdown",
   "metadata": {},
   "source": [
    "### Cargamos lo necesario para crear y conectarnos a la base de datos"
   ]
  },
  {
   "cell_type": "code",
   "execution_count": 2,
   "metadata": {},
   "outputs": [],
   "source": [
    "db = \"proyecto5\"\n",
    "user = os.getenv(\"user\")\n",
    "key = os.getenv(\"sql\")\n",
    "host = os.getenv(\"host\")\n",
    "port = os.getenv(\"port\")"
   ]
  },
  {
   "cell_type": "markdown",
   "metadata": {},
   "source": [
    "### Nos conectamos a la base de datos"
   ]
  },
  {
   "cell_type": "code",
   "execution_count": 3,
   "metadata": {},
   "outputs": [
    {
     "name": "stdout",
     "output_type": "stream",
     "text": [
      "Conectado a la base de datos: proyecto5\n"
     ]
    }
   ],
   "source": [
    "conexion = conectarse_a_bd(db,user,key,host,port)\n",
    "cursor = conexion.cursor()"
   ]
  }
 ],
 "metadata": {
  "kernelspec": {
   "display_name": "Python 3",
   "language": "python",
   "name": "python3"
  },
  "language_info": {
   "codemirror_mode": {
    "name": "ipython",
    "version": 3
   },
   "file_extension": ".py",
   "mimetype": "text/x-python",
   "name": "python",
   "nbconvert_exporter": "python",
   "pygments_lexer": "ipython3",
   "version": "3.11.9"
  }
 },
 "nbformat": 4,
 "nbformat_minor": 2
}
